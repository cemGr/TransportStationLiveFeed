{
 "cells": [
  {
   "cell_type": "markdown",
   "id": "77181d14",
   "metadata": {},
   "source": [
    "## Fetch hourly weather for trips\n",
    "This notebook loads cleaned trip data, rounds start times to the nearest hour, queries Open-Meteo for temperature, rain, and weather code, and merges the results back to the trips."
   ]
  },
  {
   "cell_type": "code",
   "execution_count": null,
   "id": "ad4b4eb1",
   "metadata": {},
   "outputs": [],
   "source": [
    "import pandas as pd\n",
    "import requests_cache\n",
    "from retry_requests import retry\n",
    "import openmeteo_requests"
   ]
  },
  {
   "cell_type": "code",
   "execution_count": null,
   "id": "34ef8fa7",
   "metadata": {},
   "outputs": [],
   "source": [
    "cache_session = requests_cache.CachedSession('.cache', expire_after=3600)\n",
    "retry_session = retry(cache_session, retries=5, backoff_factor=0.2)\n",
    "openmeteo = openmeteo_requests.Client(session=retry_session)"
   ]
  },
  {
   "cell_type": "code",
   "execution_count": null,
   "id": "be5f751c",
   "metadata": {},
   "outputs": [],
   "source": [
    "df = pd.read_csv('jupyter/cleaned_trip_data.csv', parse_dates=['start_time'])\n",
    "# localize times to Los Angeles and convert to UTC after rounding\n",
    "local = df['start_time'].dt.tz_localize('America/Los_Angeles')\n",
    "df['time_rounded'] = local.dt.round('h').dt.tz_convert('UTC')\n",
    "df_display = df.copy()\n",
    "df_display['time_rounded'] = df_display['time_rounded'].dt.strftime('%Y-%m-%d %H:%M:%S%z')\n",
    "df_display.head()"
   ]
  },
  {
   "cell_type": "code",
   "execution_count": null,
   "id": "c4490c0f",
   "metadata": {},
   "outputs": [],
   "source": [
    "selected_hours = df['time_rounded'].drop_duplicates().sort_values().head(50)\n",
    "filtered = df[df['time_rounded'].isin(selected_hours)]\n",
    "requests_df = filtered[['start_lat', 'start_lon', 'time_rounded']].drop_duplicates()\n",
    "requests_df.head()"
   ]
  },
  {
   "cell_type": "code",
   "execution_count": null,
   "id": "5254b523",
   "metadata": {},
   "outputs": [],
   "source": [
    "def fetch_hourly_weather(lat, lon, timestamp):\n",
    "    url = 'https://api.open-meteo.com/v1/forecast'\n",
    "    day = timestamp.strftime('%Y-%m-%d')\n",
    "    params = {\n",
    "        'latitude': lat,\n",
    "        'longitude': lon,\n",
    "        'hourly': ['temperature_2m', 'rain', 'weather_code'],\n",
    "        'start_date': day,\n",
    "        'end_date': day,\n",
    "        'timezone': 'UTC',\n",
    "        'timeformat': 'unixtime'\n",
    "    }\n",
    "    responses = openmeteo.weather_api(url, params=params)\n",
    "    hourly = responses[0].Hourly()\n",
    "    times = pd.to_datetime(hourly.Time(), unit='s', utc=True)\n",
    "    ts = timestamp.tz_convert('UTC') if timestamp.tzinfo else timestamp.tz_localize('UTC')\n",
    "    match = (times == ts).nonzero()[0]\n",
    "    if len(match) == 0:\n",
    "        raise ValueError(f'Requested time {ts} not available in API response')\n",
    "    idx = int(match[0])\n",
    "    temperature = hourly.Variables(0).ValuesAsNumpy()[idx]\n",
    "    rain = hourly.Variables(1).ValuesAsNumpy()[idx]\n",
    "    code = hourly.Variables(2).ValuesAsNumpy()[idx]\n",
    "    return temperature, rain, code"
   ]
  },
  {
   "cell_type": "code",
   "execution_count": null,
   "id": "680937aa",
   "metadata": {},
   "outputs": [],
   "source": [
    "weather_records = []\n",
    "for _, row in requests_df.iterrows():\n",
    "    temp, rain, code = fetch_hourly_weather(row['start_lat'], row['start_lon'], row['time_rounded'])\n",
    "    weather_records.append({\n",
    "        'start_lat': row['start_lat'],\n",
    "        'start_lon': row['start_lon'],\n",
    "        'time_rounded': row['time_rounded'],\n",
    "        'temperature_2m': temp,\n",
    "        'rain': rain,\n",
    "        'weather_code': code,\n",
    "    })\n",
    "weather_df = pd.DataFrame(weather_records)\n",
    "result = filtered.merge(weather_df, on=['start_lat', 'start_lon', 'time_rounded'], how='left')\n",
    "result.head()"
   ]
  }
 ],
 "metadata": {
  "kernelspec": {
   "display_name": "Python 3",
   "language": "python",
   "name": "python3"
  },
  "language_info": {
   "codemirror_mode": {
    "name": "ipython",
    "version": 3
   },
   "file_extension": ".py",
   "mimetype": "text/x-python",
   "name": "python",
   "nbconvert_exporter": "python",
   "pygments_lexer": "ipython3",
   "version": "3.11"
  }
 },
 "nbformat": 4,
 "nbformat_minor": 5
}