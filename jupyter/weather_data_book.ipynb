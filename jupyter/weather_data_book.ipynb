{
 "cells": [
  {
   "cell_type": "markdown",
   "id": "2fca3b2a",
   "metadata": {},
   "source": [
    "# Weather data enrichment\n",
    "\n",
    "This notebook joins hourly weather information from the [Open-Meteo](https://open-meteo.com/) API with the cleaned trip data.\n",
    "For a small sample of trip start times we request temperature, rain and weather code, then merge the results back to the trips."
   ]
  },
  {
   "cell_type": "code",
   "execution_count": null,
   "id": "cdf9c47e",
   "metadata": {},
   "outputs": [],
   "source": [
    "import pandas as pd\n",
    "import requests_cache\n",
    "from retry_requests import retry\n",
    "import openmeteo_requests\n"
   ]
  },
  {
   "cell_type": "code",
   "execution_count": null,
   "id": "0188c8b6",
   "metadata": {},
   "outputs": [],
   "source": [
    "# cache API responses on disk to avoid repeated requests\n",
    "cache_session = requests_cache.CachedSession('.cache', expire_after=3600)\n",
    "retry_session = retry(cache_session, retries=5, backoff_factor=0.2)\n",
    "openmeteo = openmeteo_requests.Client(session=retry_session)\n"
   ]
  },
  {
   "cell_type": "code",
   "execution_count": null,
   "id": "54e64e01",
   "metadata": {},
   "outputs": [],
   "source": [
    "# load trips and round start times to full hours in UTC\n",
    "df = pd.read_csv('jupyter/cleaned_trip_data.csv', parse_dates=['start_time'])\n",
    "local = df['start_time'].dt.tz_localize('America/Los_Angeles', nonexistent='shift_forward', ambiguous='NaT')\n",
    "df['time_rounded'] = local.dt.tz_convert('UTC').dt.round('h')\n",
    "df.head()\n"
   ]
  },
  {
   "cell_type": "code",
   "execution_count": null,
   "id": "7f7e4dfd",
   "metadata": {},
   "outputs": [],
   "source": [
    "# choose a subset of hours to keep the example short\n",
    "selected = df['time_rounded'].drop_duplicates().sort_values().head(50)\n",
    "filtered = df[df['time_rounded'].isin(selected)]\n",
    "requests_df = filtered[['start_lat','start_lon','time_rounded']].drop_duplicates()\n",
    "requests_df.head()\n"
   ]
  },
  {
   "cell_type": "code",
   "execution_count": null,
   "id": "7aebe3f1",
   "metadata": {},
   "outputs": [],
   "source": [
    "def fetch_hourly_weather(lat, lon, timestamp):\n",
    "    \"\"\"Query Open-Meteo for a single UTC hour.\"\"\"\n",
    "    url = 'https://api.open-meteo.com/v1/forecast'\n",
    "    day = timestamp.strftime('%Y-%m-%d')\n",
    "    params = {\n",
    "        'latitude': lat,\n",
    "        'longitude': lon,\n",
    "        'hourly': ['temperature_2m', 'rain', 'weather_code'],\n",
    "        'start_date': day,\n",
    "        'end_date': day,\n",
    "        'timezone': 'UTC',\n",
    "        'timeformat': 'unixtime',\n",
    "    }\n",
    "    responses = openmeteo.weather_api(url, params=params)\n",
    "    hourly = responses[0].Hourly()\n",
    "    times = pd.to_datetime(hourly.Time(), unit='s', utc=True)\n",
    "    idx = int((times == timestamp).nonzero()[0][0])\n",
    "    temperature = hourly.Variables(0).ValuesAsNumpy()[idx]\n",
    "    rain = hourly.Variables(1).ValuesAsNumpy()[idx]\n",
    "    code = hourly.Variables(2).ValuesAsNumpy()[idx]\n",
    "    return temperature, rain, code\n"
   ]
  },
  {
   "cell_type": "code",
   "execution_count": null,
   "id": "8d09f63b",
   "metadata": {},
   "outputs": [],
   "source": [
    "# collect weather for each location and hour\n",
    "records = []\n",
    "for _, row in requests_df.iterrows():\n",
    "    try:\n",
    "        temp, rain, code = fetch_hourly_weather(row['start_lat'], row['start_lon'], row['time_rounded'])\n",
    "    except Exception as e:\n",
    "        print('weather fetch failed:', e)\n",
    "        temp = rain = code = None\n",
    "    records.append({\n",
    "        'start_lat': row['start_lat'],\n",
    "        'start_lon': row['start_lon'],\n",
    "        'time_rounded': row['time_rounded'],\n",
    "        'temperature_2m': temp,\n",
    "        'rain': rain,\n",
    "        'weather_code': code,\n",
    "    })\n",
    "weather_df = pd.DataFrame(records)\n",
    "merged = filtered.merge(weather_df, on=['start_lat','start_lon','time_rounded'], how='left')\n",
    "merged.head()\n"
   ]
  }
 ],
 "metadata": {
  "kernelspec": {
   "display_name": "Python 3",
   "language": "python",
   "name": "python3"
  },
  "language_info": {
   "codemirror_mode": {
    "name": "ipython",
    "version": 3
   },
   "file_extension": ".py",
   "mimetype": "text/x-python",
   "name": "python",
   "nbconvert_exporter": "python",
   "pygments_lexer": "ipython3",
   "version": "3.11"
  }
 },
 "nbformat": 4,
 "nbformat_minor": 5
}
