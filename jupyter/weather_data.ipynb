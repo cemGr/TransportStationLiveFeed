{
 "cells": [
  {
   "cell_type": "markdown",
   "metadata": {},
   "source": [
    "# Query Open-Meteo weather data for trip locations\n",
    "This notebook demonstrates how to fetch hourly weather data for each trip in `cleaned_trip_data.csv`.\n",
    "The start times are rounded to the nearest hour before performing the request."
   ]
  },
  {
   "cell_type": "code",
   "execution_count": null,
   "metadata": {},
   "outputs": [],
   "source": [
    "import pandas as pd\n",
    "import requests_cache\n",
    "from retry_requests import retry\n",
    "import openmeteo_requests\n",
    "\n",
    "# Setup caching and retry behaviour\n",
    "cache_session = requests_cache.CachedSession('.cache', expire_after=3600)\n",
    "retry_session = retry(cache_session, retries=5, backoff_factor=0.2)\n",
    "openmeteo = openmeteo_requests.Client(session=retry_session)"
   ]
  },
  {
   "cell_type": "code",
   "execution_count": null,
   "metadata": {},
   "outputs": [],
   "source": [
    "# Load cleaned trip data\n",
    "df = pd.read_csv('jupyter/cleaned_trip_data.csv', parse_dates=['start_time'])\n",
    "\n",
    "# Round start_time to the nearest hour\n",
    "df['time_rounded'] = df['start_time'].dt.round('h')\n",
    "\n",
    "# Display the rounded time with hour information\n",
    "df_display = df.copy()\n",
    "df_display['time_rounded'] = df_display['time_rounded'].dt.strftime('%Y-%m-%d %H:%M:%S')\n",
    "df_display.head()"
   ]
  },
  {
   "cell_type": "code",
   "execution_count": null,
   "metadata": {},
   "outputs": [],
   "source": [
    "def fetch_hourly_weather(lat, lon, timestamp):\n",
    "    \"\"\"Request hourly weather data for a specific time and location.\n",
    "    The timestamp is expected in UTC.\n",
    "    \"\"\"\n",
    "    url = 'https://api.open-meteo.com/v1/forecast'\n",
    "    params = {\n",
    "        'latitude': lat,\n",
    "        'longitude': lon,\n",
    "        'hourly': ['temperature_2m', 'precipitation'],\n",
    "        'start': int(timestamp.timestamp()),\n",
    "        'timezone': 'UTC',\n",
    "        'past_days': 0\n",
    "    }\n",
    "    \n",
    "    responses = openmeteo.weather_api(url, params=params)\n",
    "    response = responses[0]\n",
    "    hourly = response.Hourly()\n",
    "    temperature = hourly.Variables(0).ValuesAsNumpy()[0]\n",
    "    precipitation = hourly.Variables(1).ValuesAsNumpy()[0]\n",
    "    return temperature, precipitation"
   ]
  },
  {
   "cell_type": "code",
   "execution_count": null,
   "metadata": {},
   "outputs": [],
   "source": [
    "# Example: fetch weather for the first trip\n",
    "row = df.iloc[0]\n",
    "temperature, precipitation = fetch_hourly_weather(row['start_lat'], row['start_lon'], row['time_rounded'])\n",
    "temperature, precipitation"
   ]
  }
 ],
 "metadata": {
  "kernelspec": {
   "display_name": "Python 3", 
   "language": "python", 
   "name": "python3"
  },
  "language_info": {
   "codemirror_mode": {
    "name": "ipython", 
    "version": 3
   },
   "file_extension": ".py", 
   "mimetype": "text/x-python", 
   "name": "python", 
   "nbconvert_exporter": "python", 
   "pygments_lexer": "ipython3", 
   "version": "3.11"
  }
 },
 "nbformat": 4,
 "nbformat_minor": 5
}
