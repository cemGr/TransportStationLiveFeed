{
 "cells": [
  {
   "cell_type": "markdown",
   "id": "2ee96d91",
   "metadata": {},
   "source": [
    "# Weather Lookup\n",
    "Dieses Notebook zeigt, wie Wetterdaten f\u00fcr Tripdaten anhand von Breite, L\u00e4nge und Startzeit abgefragt werden k\u00f6nnen."
   ]
  },
  {
   "cell_type": "code",
   "execution_count": null,
   "id": "6ac416a1",
   "metadata": {},
   "outputs": [],
   "source": [
    "import pandas as pd\n",
    "import openmeteo_requests\n",
    "import requests_cache\n",
    "from retry_requests import retry\n",
    "from datetime import datetime\n",
    "import sys\n",
    "from pathlib import Path\n",
    "sys.path.append(str(Path('src').resolve()))\n",
    "from db import open_connection\n",
    "\n",
    "cache_session = requests_cache.CachedSession('.cache', expire_after=3600)\n",
    "retry_session = retry(cache_session, retries=5, backoff_factor=0.2)\n",
    "openmeteo = openmeteo_requests.Client(session=retry_session)\n"
   ]
  },
  {
   "cell_type": "code",
   "execution_count": null,
   "id": "39371b23",
   "metadata": {},
   "outputs": [],
   "source": [
    "conn = open_connection()\n",
    "query = \"SELECT id, start_lat, start_lon, start_time FROM public.trips LIMIT 5;\"\n",
    "trips = pd.read_sql_query(query, conn)\n",
    "conn.close()\n",
    "trips"
   ]
  },
  {
   "cell_type": "code",
   "execution_count": null,
   "id": "a390bc7d",
   "metadata": {},
   "outputs": [],
   "source": [
    "def fetch_weather(lat, lon, timestamp):\n",
    "    ts = pd.to_datetime(timestamp)\n",
    "    date = ts.date()\n",
    "    url = 'https://api.open-meteo.com/v1/forecast'\n",
    "    params = {\n",
    "        'latitude': lat,\n",
    "        'longitude': lon,\n",
    "        'start_date': date,\n",
    "        'end_date': date,\n",
    "        'hourly': 'temperature_2m,relativehumidity_2m,precipitation,cloudcover,snowfall,windspeed_10m',\n",
    "        'timezone': 'UTC',\n",
    "    }\n",
    "    response = openmeteo.weather_api(url, params=params)[0]\n",
    "    hourly = response.Hourly()\n",
    "    times = pd.date_range(\n",
    "        start=pd.to_datetime(hourly.Time(), unit='s', utc=True),\n",
    "        end=pd.to_datetime(hourly.TimeEnd(), unit='s', utc=True),\n",
    "        freq=pd.Timedelta(seconds=hourly.Interval()),\n",
    "        inclusive='left'\n",
    "    )\n",
    "    data = pd.DataFrame({\n",
    "        'time': times,\n",
    "        'temperature_2m': hourly.Variables(0).ValuesAsNumpy(),\n",
    "        'relativehumidity_2m': hourly.Variables(1).ValuesAsNumpy(),\n",
    "        'precipitation': hourly.Variables(2).ValuesAsNumpy(),\n",
    "        'cloudcover': hourly.Variables(3).ValuesAsNumpy(),\n",
    "        'snowfall': hourly.Variables(4).ValuesAsNumpy(),\n",
    "        'windspeed_10m': hourly.Variables(5).ValuesAsNumpy(),\n",
    "    })\n",
    "    idx = (data['time'] - ts).abs().argsort().iloc[0]\n",
    "    row = data.iloc[idx]\n",
    "    return {\n",
    "        'temperature': float(row['temperature_2m']),\n",
    "        'humidity': float(row['relativehumidity_2m']),\n",
    "        'precipitation': float(row['precipitation']),\n",
    "        'cloudcover': float(row['cloudcover']),\n",
    "        'snowfall': float(row['snowfall']),\n",
    "        'windspeed': float(row['windspeed_10m']),\n",
    "    }\n"
   ]
  },
  {
   "cell_type": "code",
   "execution_count": null,
   "id": "e0cd6072",
   "metadata": {},
   "outputs": [],
   "source": [
    "weather = trips.apply(lambda r: pd.Series(fetch_weather(r.start_lat, r.start_lon, r.start_time)), axis=1)\n",
    "trips = pd.concat([trips, weather], axis=1)\n",
    "trips"
   ]
  }
 ],
 "metadata": {
  "kernelspec": {
   "display_name": "Python 3",
   "language": "python",
   "name": "python3"
  },
  "language_info": {
   "name": "python",
   "version": "3.11"
  }
 },
 "nbformat": 4,
 "nbformat_minor": 5
}
