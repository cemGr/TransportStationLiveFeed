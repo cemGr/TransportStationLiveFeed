{
  "cells": [
    {
      "cell_type": "markdown",
      "id": "2ee96d91",
      "metadata": {},
      "source": [
        "# Weather Lookup\n",
        "Dieses Notebook zeigt, wie Wetterdaten für Tripdaten anhand von Breite, Länge und Startzeit abgefragt werden können."
      ]
    },
    {
      "cell_type": "code",
      "execution_count": null,
      "id": "6ac416a1",
      "metadata": {},
      "outputs": [],
      "source": [
        "import pandas as pd\n",
        "import openmeteo_requests\n",
        "import requests_cache\n",
        "from retry_requests import retry\n",
        "from datetime import datetime\n",
        "import sys\n",
        "from pathlib import Path\n",
        "sys.path.append(str(Path('src').resolve()))\n",
        "from db import open_connection\n",
        "\n",
        "cache_session = requests_cache.CachedSession('.cache', expire_after=3600)\n",
        "retry_session = retry(cache_session, retries=5, backoff_factor=0.2)\n",
        "openmeteo = openmeteo_requests.Client(session=retry_session)\n"
      ]
    },
    {
      "cell_type": "code",
      "execution_count": null,
      "id": "39371b23",
      "metadata": {},
      "outputs": [],
      "source": [
        "conn = open_connection()\n",
        "query = \"SELECT id, start_lat, start_lon, start_time FROM public.trips LIMIT 5;\"\n",
        "trips = pd.read_sql_query(query, conn)\n",
        "conn.close()\n",
        "trips"
      ]
    },
    {
      "cell_type": "code",
      "execution_count": null,
      "id": "a390bc7d",
      "metadata": {},
      "outputs": [],
      "source": [
        "def safe_float(x):",
        "    try:",
        "        return float(x)",
        "    except (TypeError, ValueError):",
        "        return None",
        "",
        "",
        "def fetch_weather(lat, lon, timestamp):",
        "    ts = pd.to_datetime(timestamp, utc=True)",
        "    date = ts.date()",
        "    url = 'https://api.open-meteo.com/v1/forecast'",
        "    params = {",
        "        'latitude': lat,",
        "        'longitude': lon,",
        "        'start_date': date,",
        "        'end_date': date,",
        "        'hourly': 'temperature_2m,relativehumidity_2m,precipitation,cloudcover,snowfall,windspeed_10m',",
        "        'timezone': 'UTC',",
        "    }",
        "    response = openmeteo.weather_api(url, params=params)[0]",
        "    hourly = response.Hourly()",
        "    times = pd.date_range(",
        "        start=pd.to_datetime(hourly.Time(), unit='s', utc=True),",
        "        end=pd.to_datetime(hourly.TimeEnd(), unit='s', utc=True),",
        "        freq=pd.Timedelta(seconds=hourly.Interval()),",
        "        inclusive='left'",
        "    )",
        "    data = pd.DataFrame({",
        "        'time': times,",
        "        'temperature_2m': hourly.Variables(0).ValuesAsNumpy(),",
        "        'relativehumidity_2m': hourly.Variables(1).ValuesAsNumpy(),",
        "        'precipitation': hourly.Variables(2).ValuesAsNumpy(),",
        "        'cloudcover': hourly.Variables(3).ValuesAsNumpy(),",
        "        'snowfall': hourly.Variables(4).ValuesAsNumpy(),",
        "        'windspeed_10m': hourly.Variables(5).ValuesAsNumpy(),",
        "    })",
        "    idx = (data['time'] - ts).abs().argsort().iloc[0]",
        "    row = data.iloc[idx]",
        "    return {",
        "        'temperature': safe_float(row['temperature_2m']),",
        "        'humidity': safe_float(row['relativehumidity_2m']),",
        "        'precipitation': safe_float(row['precipitation']),",
        "        'cloudcover': safe_float(row['cloudcover']),",
        "        'snowfall': safe_float(row['snowfall']),",
        "        'windspeed': safe_float(row['windspeed_10m']),",
        "    }"
      ]
    },
    {
      "cell_type": "code",
      "execution_count": null,
      "id": "e0cd6072",
      "metadata": {},
      "outputs": [],
      "source": [
        "weather = trips.apply(lambda r: pd.Series(fetch_weather(r.start_lat, r.start_lon, r.start_time)), axis=1)\n",
        "trips = pd.concat([trips, weather], axis=1)\n",
        "trips"
      ]
    }
  ],
  "metadata": {
    "kernelspec": {
      "display_name": "Python 3",
      "language": "python",
      "name": "python3"
    },
    "language_info": {
      "name": "python",
      "version": "3.11"
    }
  },
  "nbformat": 4,
  "nbformat_minor": 5
}
