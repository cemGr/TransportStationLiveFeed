{
 "cells": [
  {
   "cell_type": "markdown",
   "id": "2ee96d91",
   "metadata": {},
   "source": [
    "# Weather Lookup\n",
    "Dieses Notebook zeigt, wie Wetterdaten für Tripdaten anhand von Breite, Länge und Startzeit abgefragt werden können."
   ]
  },
  {
   "cell_type": "code",
   "execution_count": null,
   "id": "6ac416a1",
   "metadata": {},
   "outputs": [],
   "source": [
    "import pandas as pd\n",
    "import requests\n",
    "from datetime import datetime\n",
    "import sys\n",
    "from pathlib import Path\n",
    "sys.path.append(str(Path('src').resolve()))\n",
    "from db import open_connection\n"
   ]
  },
  {
   "cell_type": "code",
   "execution_count": null,
   "id": "39371b23",
   "metadata": {},
   "outputs": [],
   "source": [
    "conn = open_connection()\n",
    "query = \"SELECT trip_id, start_lat, start_lon, start_time FROM public.trips LIMIT 5;\"\n",
    "trips = pd.read_sql_query(query, conn)\n",
    "conn.close()\n",
    "trips"
   ]
  },
  {
   "cell_type": "code",
   "execution_count": null,
   "id": "a390bc7d",
   "metadata": {},
   "outputs": [],
   "source": [
    "def fetch_weather(lat, lon, timestamp):\n",
    "    ts = pd.to_datetime(timestamp)\n",
    "    date = ts.date()\n",
    "    url = (\n",
    "        \"https://api.open-meteo.com/v1/forecast?\"\n",
    "        f\"latitude={lat}&longitude={lon}\"\n",
    "        \"&hourly=temperature_2m,relativehumidity_2m,precipitation,cloudcover,snowfall,windspeed_10m\"\n",
    "        f\"&start_date={date}&end_date={date}\"\n",
    "    )\n",
    "    resp = requests.get(url, timeout=10)\n",
    "    resp.raise_for_status()\n",
    "    data = pd.DataFrame(resp.json()['hourly'])\n",
    "    data['time'] = pd.to_datetime(data['time'])\n",
    "    idx = (data['time'] - ts).abs().argsort().iloc[0]\n",
    "    row = data.iloc[idx]\n",
    "\n",
    "    def safe_float(value):\n",
    "        try:\n",
    "            return float(value) if value is not None else None\n",
    "        except (TypeError, ValueError):\n",
    "            return None\n",
    "\n",
    "    return {\n",
    "        'temperature': safe_float(row['temperature_2m']),\n",
    "        'humidity': safe_float(row['relativehumidity_2m']),\n",
    "        'precipitation': safe_float(row['precipitation']),\n",
    "        'cloudcover': safe_float(row['cloudcover']),\n",
    "        'snowfall': safe_float(row['snowfall']),\n",
    "        'windspeed': safe_float(row['windspeed_10m']),\n",
    "    }\n"
   ]
  },
  {
   "cell_type": "code",
   "execution_count": null,
   "id": "e0cd6072",
   "metadata": {},
   "outputs": [],
   "source": [
    "weather = trips.apply(lambda r: pd.Series(fetch_weather(r.start_lat, r.start_lon, r.start_time)), axis=1)\n",
    "trips = pd.concat([trips, weather], axis=1)\n",
    "trips"
   ]
  }
 ],
 "metadata": {
  "kernelspec": {
   "display_name": "Python 3",
   "language": "python",
   "name": "python3"
  },
  "language_info": {
   "name": "python",
   "version": "3.11"
  }
 },
 "nbformat": 4,
 "nbformat_minor": 5
}
