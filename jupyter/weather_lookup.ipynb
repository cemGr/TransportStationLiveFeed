{
  "cells": [
    {
      "cell_type": "markdown",
      "metadata": {},
      "source": [
        "# Weather Lookup\n",
        "Dieses Notebook zeigt, wie Wetterdaten f\u00fcr Tripdaten anhand von Breite, L\u00e4nge und Startzeit abgefragt werden k\u00f6nnen."
      ]
    },
    {
      "cell_type": "code",
      "execution_count": null,
      "metadata": {},
      "outputs": [],
      "source": [
  "import pandas as pd\n",
  "import requests\n",
  "from datetime import datetime\n",
  "import sys\n",
  "from pathlib import Path\n",
  "sys.path.append(str(Path('src').resolve()))\n",
  "from db import open_connection\n"
      ]
    },
    {
      "cell_type": "code",
      "execution_count": null,
      "metadata": {},
      "outputs": [],
      "source": [
        "conn = open_connection()\n",
        "query = \"SELECT trip_id, start_lat, start_lon, start_time FROM public.trips LIMIT 5;\"\n",
        "trips = pd.read_sql_query(query, conn)\n",
        "conn.close()\n",
        "trips"
      ]
    },
    {
      "cell_type": "code",
      "execution_count": null,
      "metadata": {},
      "outputs": [],
      "source": [
        "def fetch_temperature(lat, lon, timestamp):\n",
        "    date = pd.to_datetime(timestamp).date()\n",
        "    url = (\"https://api.open-meteo.com/v1/forecast?\"\n",
        "           f'latitude={lat}&longitude={lon}&hourly=temperature_2m'\n",
        "           f'&start_date={date}&end_date={date}')\n",
        "    resp = requests.get(url, timeout=10)\n",
        "    resp.raise_for_status()\n",
        "    data = resp.json()\n",
        "    times = data['hourly']['time']\n",
        "    temps = data['hourly']['temperature_2m']\n",
        "    df = pd.DataFrame({'time': times, 'temp': temps})\n",
        "    df['time'] = pd.to_datetime(df['time'])\n",
        "    row = df.loc[df['time'] == pd.to_datetime(timestamp)]\n",
        "    if not row.empty:\n",
        "        return float(row['temp'].iloc[0])\n",
        "    return None\n"
      ]
    },
    {
      "cell_type": "code",
      "execution_count": null,
      "metadata": {},
      "outputs": [],
      "source": [
        "trips['temperature'] = trips.apply(lambda r: fetch_temperature(r.start_lat, r.start_lon, r.start_time), axis=1)\n",
        "trips"
      ]
    }
  ],
  "metadata": {
    "kernelspec": {
      "display_name": "Python 3",
      "language": "python",
      "name": "python3"
    },
    "language_info": {
      "name": "python",
      "version": "3.11"
    }
  },
  "nbformat": 4,
  "nbformat_minor": 5
}
