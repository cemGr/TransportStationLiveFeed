{
 "cells": [
  {
   "metadata": {},
   "cell_type": "markdown",
   "source": [
    "# Metro Bike Trip-Data Downloader\n",
    "Downloads every quarterly ZIP from\n",
    "https://bikeshare.metro.net/about/data/  ➜  ./trip_data"
   ],
   "id": "47558bca83566754"
  },
  {
   "metadata": {
    "ExecuteTime": {
     "end_time": "2025-05-27T07:14:44.733051Z",
     "start_time": "2025-05-27T07:14:44.730874Z"
    }
   },
   "cell_type": "code",
   "source": [
    "### 1 Install / import packages  (run once)\n",
    "# pip install -r requirements.txt\n",
    "\n",
    "import os, re, time, requests, zipfile, textwrap\n",
    "from bs4 import BeautifulSoup\n",
    "from urllib.parse import urljoin\n",
    "from tqdm import tqdm\n"
   ],
   "id": "996327e5063e87c1",
   "outputs": [],
   "execution_count": 11
  },
  {
   "metadata": {
    "ExecuteTime": {
     "end_time": "2025-05-27T07:14:46.475723Z",
     "start_time": "2025-05-27T07:14:46.472724Z"
    }
   },
   "cell_type": "code",
   "source": [
    "# 2 Config – set link, directory\n",
    "PAGE_URL   = \"https://bikeshare.metro.net/about/data/\"\n",
    "TARGET_DIR = \"../src/scraper/trip_data\"\n",
    "ZIP_REGEX  = re.compile(r\"trips?.*\\.zip$\", re.I)\n",
    "\n",
    "os.makedirs(TARGET_DIR, exist_ok=True)\n"
   ],
   "id": "468f7ffcf9d38e4e",
   "outputs": [],
   "execution_count": 12
  },
  {
   "metadata": {
    "ExecuteTime": {
     "end_time": "2025-05-27T07:14:48.224137Z",
     "start_time": "2025-05-27T07:14:47.701990Z"
    }
   },
   "cell_type": "code",
   "source": [
    "# DEBUG – print the first 700 characters that Requests sees\n",
    "r = requests.get(\n",
    "    PAGE_URL,\n",
    "    headers={\n",
    "        \"User-Agent\": \"Mozilla/5.0 (compatible; MetroBikeCrawler/1.0)\",\n",
    "        \"Accept\": \"text/html\",\n",
    "    },\n",
    "    timeout=30,\n",
    ")\n",
    "print(\"HTTP status:\", r.status_code)\n",
    "print(textwrap.shorten(r.text.replace(\"\\n\", \" \"), width=700, placeholder=\" […] \"))\n"
   ],
   "id": "e88da2cb1d0b873b",
   "outputs": [
    {
     "name": "stdout",
     "output_type": "stream",
     "text": [
      "HTTP status: 200\n",
      "<!doctype html> <!--[if lt IE 7]><html lang=\"en-US\" class=\"no-js lt-ie9 lt-ie8 lt-ie7\"><![endif]--> <!--[if (IE 7)&!(IEMobile)]><html lang=\"en-US\" class=\"no-js lt-ie9 lt-ie8\"><![endif]--> <!--[if (IE 8)&!(IEMobile)]><html lang=\"en-US\" class=\"no-js lt-ie9\"><![endif]--> <!--[if gt IE 8]><!--> <html lang=\"en-US\" class=\"no-js\"> <!--<![endif]--> <head> <meta charset=\"utf-8\"> <meta http-equiv=\"X-UA-Compatible\" content=\"IE=edge\"> <script type=\"text/javascript\"> /* <![CDATA[ */ var […] \n"
     ]
    }
   ],
   "execution_count": 13
  },
  {
   "metadata": {
    "ExecuteTime": {
     "end_time": "2025-05-27T07:20:01.083444Z",
     "start_time": "2025-05-27T07:20:00.512838Z"
    }
   },
   "cell_type": "code",
   "source": [
    "# 3 Helper: collect_zip_links – more tolerant regex & proper browser-like headers\n",
    "\n",
    "ZIP_RE = re.compile(r\"trips?.*\\.zip$\", re.I)\n",
    "TRIP_KEY = \"trips\"\n",
    "\n",
    "def collect_zip_links(page_url=PAGE_URL):\n",
    "    sess = requests.Session()\n",
    "    sess.headers.update({\n",
    "        \"User-Agent\": \"Mozilla/5.0 (Windows NT 10.0; Win64; x64) \"\n",
    "                      \"AppleWebKit/537.36 (KHTML, like Gecko) \"\n",
    "                      \"Chrome/124.0.0.0 Safari/537.36\",\n",
    "        \"Accept-Language\": \"en-US,en;q=0.9\",\n",
    "        \"Accept\": \"text/html\",\n",
    "    })\n",
    "    html = sess.get(page_url, timeout=30).text\n",
    "    soup = BeautifulSoup(html, \"html.parser\")\n",
    "\n",
    "    links = {\n",
    "        urljoin(page_url, a[\"href\"])\n",
    "        for a in soup.select(\"a[href]\")\n",
    "        if ZIP_RE.search(a[\"href\"]) and TRIP_KEY in a[\"href\"].lower()\n",
    "    }\n",
    "    return sorted(links, reverse=True)\n",
    "\n",
    "zip_urls = collect_zip_links()\n",
    "print(f\"Found {len(zip_urls)} ZIP files\")\n",
    "zip_urls[:5]\n"
   ],
   "id": "ae166a4cf1adeb07",
   "outputs": [
    {
     "name": "stdout",
     "output_type": "stream",
     "text": [
      "Found 35 ZIP files\n"
     ]
    },
    {
     "data": {
      "text/plain": [
       "['https://bikeshare.metro.net/wp-content/uploads/2025/04/metro-trips-2025-q1.zip',\n",
       " 'https://bikeshare.metro.net/wp-content/uploads/2025/01/metro-trips-2024-q4.zip',\n",
       " 'https://bikeshare.metro.net/wp-content/uploads/2024/10/metro-trips-2024-q3.zip',\n",
       " 'https://bikeshare.metro.net/wp-content/uploads/2024/07/metro-trips-2024-q2.zip',\n",
       " 'https://bikeshare.metro.net/wp-content/uploads/2024/04/metro-trips-2024-q1.zip']"
      ]
     },
     "execution_count": 21,
     "metadata": {},
     "output_type": "execute_result"
    }
   ],
   "execution_count": 21
  },
  {
   "metadata": {
    "ExecuteTime": {
     "end_time": "2025-05-27T07:20:24.647091Z",
     "start_time": "2025-05-27T07:20:24.644065Z"
    }
   },
   "cell_type": "code",
   "source": [
    "# 4 Helper: download one ZIP with streaming + progress bar\n",
    "def download_zip(url, dst_dir=TARGET_DIR, session=None):\n",
    "    fname = os.path.join(dst_dir, os.path.basename(url))\n",
    "    if os.path.exists(fname):\n",
    "        print(\"✓\", os.path.basename(fname), \"already present – skipped\")\n",
    "        return fname\n",
    "\n",
    "    sess = session or requests.Session()\n",
    "    with sess.get(url, stream=True, timeout=120) as r:\n",
    "        r.raise_for_status()\n",
    "        total = int(r.headers.get(\"content-length\", 0))\n",
    "        tmp   = fname + \".part\"\n",
    "        with open(tmp, \"wb\") as f, tqdm(total=total, unit=\"B\", unit_scale=True,\n",
    "                                        desc=os.path.basename(fname)) as bar:\n",
    "            for chunk in r.iter_content(1 << 15):\n",
    "                f.write(chunk)\n",
    "                bar.update(len(chunk))\n",
    "    os.rename(tmp, fname)\n",
    "    print(\"✓\", os.path.basename(fname), \"downloaded\")\n",
    "    return fname\n"
   ],
   "id": "b2569263d221f5a4",
   "outputs": [],
   "execution_count": 22
  },
  {
   "metadata": {
    "ExecuteTime": {
     "end_time": "2025-05-27T07:20:46.459812Z",
     "start_time": "2025-05-27T07:20:29.592961Z"
    }
   },
   "cell_type": "code",
   "source": [
    "# 5 Download: all ZIPs\n",
    "with requests.Session() as sess:\n",
    "    sess.headers[\"User-Agent\"] = \"metro-bikeshare-crawler/1.0\"\n",
    "    for url in zip_urls:\n",
    "        try:\n",
    "            download_zip(url, session=sess)\n",
    "        except Exception as exc:\n",
    "            print(\"Exception: \", url, exc)\n",
    "            time.sleep(5)\n"
   ],
   "id": "6dc68f7ea0c145da",
   "outputs": [
    {
     "name": "stderr",
     "output_type": "stream",
     "text": [
      "metro-trips-2025-q1.zip: 100%|██████████| 1.96M/1.96M [00:00<00:00, 13.5MB/s]\n"
     ]
    },
    {
     "name": "stdout",
     "output_type": "stream",
     "text": [
      "✓ metro-trips-2025-q1.zip downloaded\n"
     ]
    },
    {
     "name": "stderr",
     "output_type": "stream",
     "text": [
      "metro-trips-2024-q4.zip: 100%|██████████| 2.48M/2.48M [00:00<00:00, 15.6MB/s]\n"
     ]
    },
    {
     "name": "stdout",
     "output_type": "stream",
     "text": [
      "✓ metro-trips-2024-q4.zip downloaded\n"
     ]
    },
    {
     "name": "stderr",
     "output_type": "stream",
     "text": [
      "metro-trips-2024-q3.zip: 100%|██████████| 2.75M/2.75M [00:00<00:00, 6.05MB/s]\n"
     ]
    },
    {
     "name": "stdout",
     "output_type": "stream",
     "text": [
      "✓ metro-trips-2024-q3.zip downloaded\n"
     ]
    },
    {
     "name": "stderr",
     "output_type": "stream",
     "text": [
      "metro-trips-2024-q2.zip: 100%|██████████| 2.94M/2.94M [00:00<00:00, 7.50MB/s]\n"
     ]
    },
    {
     "name": "stdout",
     "output_type": "stream",
     "text": [
      "✓ metro-trips-2024-q2.zip downloaded\n"
     ]
    },
    {
     "name": "stderr",
     "output_type": "stream",
     "text": [
      "metro-trips-2024-q1.zip: 100%|██████████| 2.46M/2.46M [00:00<00:00, 10.9MB/s]\n"
     ]
    },
    {
     "name": "stdout",
     "output_type": "stream",
     "text": [
      "✓ metro-trips-2024-q1.zip downloaded\n"
     ]
    },
    {
     "name": "stderr",
     "output_type": "stream",
     "text": [
      "metro-trips-2023-q4.zip: 100%|██████████| 2.66M/2.66M [00:00<00:00, 5.40MB/s]\n"
     ]
    },
    {
     "name": "stdout",
     "output_type": "stream",
     "text": [
      "✓ metro-trips-2023-q4.zip downloaded\n"
     ]
    },
    {
     "name": "stderr",
     "output_type": "stream",
     "text": [
      "metro-trips-2023-q3.zip: 100%|██████████| 2.68M/2.68M [00:00<00:00, 6.50MB/s]\n"
     ]
    },
    {
     "name": "stdout",
     "output_type": "stream",
     "text": [
      "✓ metro-trips-2023-q3.zip downloaded\n"
     ]
    },
    {
     "name": "stderr",
     "output_type": "stream",
     "text": [
      "metro-trips-2023-q2.zip: 100%|██████████| 2.23M/2.23M [00:00<00:00, 9.06MB/s]\n"
     ]
    },
    {
     "name": "stdout",
     "output_type": "stream",
     "text": [
      "✓ metro-trips-2023-q2.zip downloaded\n"
     ]
    },
    {
     "name": "stderr",
     "output_type": "stream",
     "text": [
      "metro-trips-2023-q1.zip: 100%|██████████| 1.47M/1.47M [00:00<00:00, 14.4MB/s]\n"
     ]
    },
    {
     "name": "stdout",
     "output_type": "stream",
     "text": [
      "✓ metro-trips-2023-q1.zip downloaded\n"
     ]
    },
    {
     "name": "stderr",
     "output_type": "stream",
     "text": [
      "metro-trips-2022-q4.zip: 100%|██████████| 1.62M/1.62M [00:00<00:00, 5.40MB/s]\n"
     ]
    },
    {
     "name": "stdout",
     "output_type": "stream",
     "text": [
      "✓ metro-trips-2022-q4.zip downloaded\n"
     ]
    },
    {
     "name": "stderr",
     "output_type": "stream",
     "text": [
      "metro-trips-2022-q3.zip: 100%|██████████| 1.71M/1.71M [00:00<00:00, 5.02MB/s]\n"
     ]
    },
    {
     "name": "stdout",
     "output_type": "stream",
     "text": [
      "✓ metro-trips-2022-q3.zip downloaded\n"
     ]
    },
    {
     "name": "stderr",
     "output_type": "stream",
     "text": [
      "metro-trips-2022-q2.zip: 100%|██████████| 1.38M/1.38M [00:00<00:00, 16.4MB/s]\n"
     ]
    },
    {
     "name": "stdout",
     "output_type": "stream",
     "text": [
      "✓ metro-trips-2022-q2.zip downloaded\n"
     ]
    },
    {
     "name": "stderr",
     "output_type": "stream",
     "text": [
      "metro-trips-2022-q1.zip: 100%|██████████| 1.12M/1.12M [00:00<00:00, 5.39MB/s]\n"
     ]
    },
    {
     "name": "stdout",
     "output_type": "stream",
     "text": [
      "✓ metro-trips-2022-q1.zip downloaded\n"
     ]
    },
    {
     "name": "stderr",
     "output_type": "stream",
     "text": [
      "metro-trips-2021-q4.zip: 100%|██████████| 1.27M/1.27M [00:00<00:00, 7.04MB/s]\n"
     ]
    },
    {
     "name": "stdout",
     "output_type": "stream",
     "text": [
      "✓ metro-trips-2021-q4.zip downloaded\n"
     ]
    },
    {
     "name": "stderr",
     "output_type": "stream",
     "text": [
      "la_metro_gbfs_trips_Q1_2017-2.zip: 100%|██████████| 577k/577k [00:00<00:00, 5.11MB/s]\n"
     ]
    },
    {
     "name": "stdout",
     "output_type": "stream",
     "text": [
      "✓ la_metro_gbfs_trips_Q1_2017-2.zip downloaded\n"
     ]
    },
    {
     "name": "stderr",
     "output_type": "stream",
     "text": [
      "MetroBikeShare_2016_Q3_trips-2.zip: 100%|██████████| 900k/900k [00:00<00:00, 16.3MB/s]\n"
     ]
    },
    {
     "name": "stdout",
     "output_type": "stream",
     "text": [
      "✓ MetroBikeShare_2016_Q3_trips-2.zip downloaded\n"
     ]
    },
    {
     "name": "stderr",
     "output_type": "stream",
     "text": [
      "metro-trips-2021-q3.zip: 100%|██████████| 1.16M/1.16M [00:00<00:00, 3.97MB/s]\n"
     ]
    },
    {
     "name": "stdout",
     "output_type": "stream",
     "text": [
      "✓ metro-trips-2021-q3.zip downloaded\n"
     ]
    },
    {
     "name": "stderr",
     "output_type": "stream",
     "text": [
      "metro-trips-2021-q2.zip: 100%|██████████| 1.63M/1.63M [00:00<00:00, 6.01MB/s]\n"
     ]
    },
    {
     "name": "stdout",
     "output_type": "stream",
     "text": [
      "✓ metro-trips-2021-q2.zip downloaded\n"
     ]
    },
    {
     "name": "stderr",
     "output_type": "stream",
     "text": [
      "metro-trips-2021-q1-1.zip: 100%|██████████| 819k/819k [00:00<00:00, 4.77MB/s]\n"
     ]
    },
    {
     "name": "stdout",
     "output_type": "stream",
     "text": [
      "✓ metro-trips-2021-q1-1.zip downloaded\n"
     ]
    },
    {
     "name": "stderr",
     "output_type": "stream",
     "text": [
      "metro-trips-2020-q2-v2.zip: 100%|██████████| 1.05M/1.05M [00:00<00:00, 6.85MB/s]\n"
     ]
    },
    {
     "name": "stdout",
     "output_type": "stream",
     "text": [
      "✓ metro-trips-2020-q2-v2.zip downloaded\n"
     ]
    },
    {
     "name": "stderr",
     "output_type": "stream",
     "text": [
      "metro-trips-2020-q4.zip: 100%|██████████| 751k/751k [00:00<00:00, 7.34MB/s]\n"
     ]
    },
    {
     "name": "stdout",
     "output_type": "stream",
     "text": [
      "✓ metro-trips-2020-q4.zip downloaded\n"
     ]
    },
    {
     "name": "stderr",
     "output_type": "stream",
     "text": [
      "metro-trips-2020-q3.zip: 100%|██████████| 828k/828k [00:00<00:00, 4.35MB/s]\n"
     ]
    },
    {
     "name": "stdout",
     "output_type": "stream",
     "text": [
      "✓ metro-trips-2020-q3.zip downloaded\n"
     ]
    },
    {
     "name": "stderr",
     "output_type": "stream",
     "text": [
      "metro-bike-share-trips-2020-q1.zip: 100%|██████████| 1.45M/1.45M [00:00<00:00, 19.7MB/s]\n"
     ]
    },
    {
     "name": "stdout",
     "output_type": "stream",
     "text": [
      "✓ metro-bike-share-trips-2020-q1.zip downloaded\n"
     ]
    },
    {
     "name": "stderr",
     "output_type": "stream",
     "text": [
      "metro-bike-share-trips-2019-q4.csv.zip: 100%|██████████| 1.76M/1.76M [00:01<00:00, 1.27MB/s]\n"
     ]
    },
    {
     "name": "stdout",
     "output_type": "stream",
     "text": [
      "✓ metro-bike-share-trips-2019-q4.csv.zip downloaded\n"
     ]
    },
    {
     "name": "stderr",
     "output_type": "stream",
     "text": [
      "metro-bike-share-trips-2019-q3-1.zip: 100%|██████████| 1.75M/1.75M [00:00<00:00, 4.43MB/s]\n"
     ]
    },
    {
     "name": "stdout",
     "output_type": "stream",
     "text": [
      "✓ metro-bike-share-trips-2019-q3-1.zip downloaded\n"
     ]
    },
    {
     "name": "stderr",
     "output_type": "stream",
     "text": [
      "metro-bike-share-trips-2019-q2.csv.zip: 100%|██████████| 1.29M/1.29M [00:00<00:00, 4.82MB/s]\n"
     ]
    },
    {
     "name": "stdout",
     "output_type": "stream",
     "text": [
      "✓ metro-bike-share-trips-2019-q2.csv.zip downloaded\n"
     ]
    },
    {
     "name": "stderr",
     "output_type": "stream",
     "text": [
      "metro-bike-share-trips-2019-q1.csv.zip: 100%|██████████| 1.11M/1.11M [00:00<00:00, 5.87MB/s]\n"
     ]
    },
    {
     "name": "stdout",
     "output_type": "stream",
     "text": [
      "✓ metro-bike-share-trips-2019-q1.csv.zip downloaded\n"
     ]
    },
    {
     "name": "stderr",
     "output_type": "stream",
     "text": [
      "metro-bike-share-trips-2018-q4.csv.zip: 100%|██████████| 1.41M/1.41M [00:00<00:00, 4.48MB/s]\n"
     ]
    },
    {
     "name": "stdout",
     "output_type": "stream",
     "text": [
      "✓ metro-bike-share-trips-2018-q4.csv.zip downloaded\n"
     ]
    },
    {
     "name": "stderr",
     "output_type": "stream",
     "text": [
      "metro-bike-share-trips-2018-q3.csv.zip: 100%|██████████| 1.78M/1.78M [00:00<00:00, 5.38MB/s]\n"
     ]
    },
    {
     "name": "stdout",
     "output_type": "stream",
     "text": [
      "✓ metro-bike-share-trips-2018-q3.csv.zip downloaded\n"
     ]
    },
    {
     "name": "stderr",
     "output_type": "stream",
     "text": [
      "metro-bike-share-trips-2016-q4.csv.zip: 100%|██████████| 772k/772k [00:00<00:00, 21.8MB/s]\n"
     ]
    },
    {
     "name": "stdout",
     "output_type": "stream",
     "text": [
      "✓ metro-bike-share-trips-2016-q4.csv.zip downloaded\n"
     ]
    },
    {
     "name": "stderr",
     "output_type": "stream",
     "text": [
      "metro-bike-share-trips-2018-q2.csv.zip: 100%|██████████| 1.45M/1.45M [00:00<00:00, 5.41MB/s]\n"
     ]
    },
    {
     "name": "stdout",
     "output_type": "stream",
     "text": [
      "✓ metro-bike-share-trips-2018-q2.csv.zip downloaded\n"
     ]
    },
    {
     "name": "stderr",
     "output_type": "stream",
     "text": [
      "metro-bike-share-trips-2018-q1.csv.zip: 100%|██████████| 1.23M/1.23M [00:00<00:00, 4.14MB/s]\n"
     ]
    },
    {
     "name": "stdout",
     "output_type": "stream",
     "text": [
      "✓ metro-bike-share-trips-2018-q1.csv.zip downloaded\n"
     ]
    },
    {
     "name": "stderr",
     "output_type": "stream",
     "text": [
      "metro-bike-share-trips-2017-q4-v2.csv.zip: 100%|██████████| 1.39M/1.39M [00:00<00:00, 7.29MB/s]\n"
     ]
    },
    {
     "name": "stdout",
     "output_type": "stream",
     "text": [
      "✓ metro-bike-share-trips-2017-q4-v2.csv.zip downloaded\n"
     ]
    },
    {
     "name": "stderr",
     "output_type": "stream",
     "text": [
      "la_metro_gbfs_trips_Q2_2017.csv.zip: 100%|██████████| 1.12M/1.12M [00:00<00:00, 4.62MB/s]\n"
     ]
    },
    {
     "name": "stdout",
     "output_type": "stream",
     "text": [
      "✓ la_metro_gbfs_trips_Q2_2017.csv.zip downloaded\n"
     ]
    },
    {
     "name": "stderr",
     "output_type": "stream",
     "text": [
      "metro-bike-share-trips-2017-q3.csv.zip: 100%|██████████| 1.21M/1.21M [00:00<00:00, 13.4MB/s]"
     ]
    },
    {
     "name": "stdout",
     "output_type": "stream",
     "text": [
      "✓ metro-bike-share-trips-2017-q3.csv.zip downloaded\n"
     ]
    },
    {
     "name": "stderr",
     "output_type": "stream",
     "text": [
      "\n"
     ]
    }
   ],
   "execution_count": 23
  },
  {
   "metadata": {
    "ExecuteTime": {
     "end_time": "2025-05-27T07:21:35.616992Z",
     "start_time": "2025-05-27T07:21:34.964066Z"
    }
   },
   "cell_type": "code",
   "source": [
    "# Optional: quick integrity check of the ZIPs\n",
    "def test_zip(path):\n",
    "    with zipfile.ZipFile(path) as zf:\n",
    "        bad = zf.testzip()\n",
    "        return bad is None\n",
    "\n",
    "bad_files = [f for f in os.listdir(TARGET_DIR)\n",
    "             if f.endswith(\".zip\") and not test_zip(os.path.join(TARGET_DIR, f))]\n",
    "print(\"Corrupt ZIPs:\", bad_files or \"None =)\")\n"
   ],
   "id": "8cc29584f013de34",
   "outputs": [
    {
     "name": "stdout",
     "output_type": "stream",
     "text": [
      "Corrupt ZIPs: None 🎉\n"
     ]
    }
   ],
   "execution_count": 24
  }
 ],
 "metadata": {
  "kernelspec": {
   "display_name": "Python 3",
   "language": "python",
   "name": "python3"
  },
  "language_info": {
   "codemirror_mode": {
    "name": "ipython",
    "version": 2
   },
   "file_extension": ".py",
   "mimetype": "text/x-python",
   "name": "python",
   "nbconvert_exporter": "python",
   "pygments_lexer": "ipython2",
   "version": "2.7.6"
  }
 },
 "nbformat": 4,
 "nbformat_minor": 5
}
