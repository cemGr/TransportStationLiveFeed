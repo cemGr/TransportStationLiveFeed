{
 "cells": [
  {
   "cell_type": "markdown",
   "id": "e400025a",
   "metadata": {},
   "source": [
    "# Fetch Hourly Weather for Bike Trips\n",
    "This notebook verifies code that collects hourly weather data from Open-Meteo and merges it with the cleaned bike trip dataset."
   ]
  },
  {
   "cell_type": "code",
   "execution_count": null,
   "id": "0669b562",
   "metadata": {},
   "outputs": [],
   "source": [
    "import pandas as pd\n",
    "import numpy as np\n",
    "import requests_cache\n",
    "from retry_requests import retry\n",
    "import openmeteo_requests\n",
    "from concurrent.futures import ThreadPoolExecutor, as_completed\n",
    "\n",
    "# Read cleaned trip data (adjust path if needed)\n",
    "trip_df = pd.read_csv('cleaned_trip_data.csv', parse_dates=['start_time'])\n",
    "\n",
    "# Treat start_time as local Los Angeles time\n",
    "local_time = trip_df['start_time'].dt.tz_localize('America/Los_Angeles')\n",
    "trip_df['date_only'] = local_time.dt.strftime('%Y-%m-%d')\n",
    "trip_df['time_only_rounded'] = local_time.dt.round('h').dt.strftime('%H:%M:%S')\n",
    "\n",
    "# Unique start locations for weather queries\n",
    "stations = trip_df[['start_lat', 'start_lon']].drop_duplicates().reset_index(drop=True)\n",
    "chunk_size = 50\n",
    "batches = [stations.iloc[i:i+chunk_size].to_dict('records')\n",
    "           for i in range(0, len(stations), chunk_size)]\n",
    "\n",
    "cache = requests_cache.CachedSession('.cache', expire_after=3600)\n",
    "client = openmeteo_requests.Client(session=retry(cache, retries=5, backoff_factor=0.2))\n"
   ]
  },
  {
   "cell_type": "code",
   "execution_count": null,
   "id": "f0da835c",
   "metadata": {},
   "outputs": [],
   "source": [
    "# Helper to request one batch of locations from Open-Meteo\n",
    "def fetch_batch(batch):\n",
    "    latitudes = [p['start_lat'] for p in batch]\n",
    "    longitudes = [p['start_lon'] for p in batch]\n",
    "    params = {\n",
    "        'latitude': latitudes,\n",
    "        'longitude': longitudes,\n",
    "        'start_date': trip_df['date_only'].min(),\n",
    "        'end_date': trip_df['date_only'].max(),\n",
    "        'hourly': ['temperature_2m', 'rain', 'weather_code'],\n",
    "        'timezone': 'auto',\n",
    "        'timeformat': 'iso8601'\n",
    "    }\n",
    "    responses = client.weather_api(\n",
    "        'https://historical-forecast-api.open-meteo.com/v1/forecast',\n",
    "        params=params\n",
    "    )\n",
    "\n",
    "    records = []\n",
    "    for loc, resp in zip(batch, responses):\n",
    "        hr = resp.Hourly()\n",
    "        start_epoch = hr.Time()\n",
    "        interval = hr.Interval()\n",
    "        temp = np.atleast_1d(hr.Variables(0).ValuesAsNumpy())\n",
    "        rain = np.atleast_1d(hr.Variables(1).ValuesAsNumpy())\n",
    "        code = np.atleast_1d(hr.Variables(2).ValuesAsNumpy())\n",
    "        n = len(temp)\n",
    "        times = pd.date_range(\n",
    "            start=pd.to_datetime(start_epoch, unit='s'),\n",
    "            periods=n,\n",
    "            freq=pd.Timedelta(seconds=interval)\n",
    "        )\n",
    "        df_loc = pd.DataFrame({\n",
    "            'start_lat': [loc['start_lat']] * n,\n",
    "            'start_lon': [loc['start_lon']] * n,\n",
    "            'date_only': times.strftime('%Y-%m-%d'),\n",
    "            'time_only_rounded': times.strftime('%H:%M:%S'),\n",
    "            'temperature_2m': temp,\n",
    "            'rain': rain,\n",
    "            'weather_code': code,\n",
    "        })\n",
    "        records.append(df_loc)\n",
    "    return records\n"
   ]
  },
  {
   "cell_type": "code",
   "execution_count": null,
   "id": "bfabfe26",
   "metadata": {},
   "outputs": [],
   "source": [
    "# Collect weather for all batches (API access required)\n",
    "all_records = []\n",
    "with ThreadPoolExecutor(max_workers=5) as ex:\n",
    "    futures = [ex.submit(fetch_batch, b) for b in batches]\n",
    "    for future in as_completed(futures):\n",
    "        all_records.extend(future.result())\n",
    "\n",
    "weather_df = pd.concat(all_records, ignore_index=True)\n",
    "\n",
    "# Merge back onto the trip data\n",
    "result = trip_df.merge(\n",
    "    weather_df,\n",
    "    on=['start_lat', 'start_lon', 'date_only', 'time_only_rounded'],\n",
    "    how='left'\n",
    ")\n",
    "result.head()\n"
   ]
  }
 ],
 "metadata": {
  "kernelspec": {
   "display_name": "Python 3",
   "language": "python",
   "name": "python3"
  },
  "language_info": {
   "name": "python",
   "version": "3.11"
  }
 },
 "nbformat": 4,
 "nbformat_minor": 5
}
