{
 "cells": [
  {
   "cell_type": "markdown",
   "metadata": {},
   "source": [
    "# OpenRouteService Demo with Folium\n",
    "\n",
    "Dieses Notebook demonstriert, wie man mit der \"openrouteservice\"-API und Folium Entfernungen und Routen zwischen zwei Punkten berechnet. Es werden die Profile *fu\u00dfl\u00e4ufig* und *Fahrrad* verwendet und die Route jeweils auf einer Karte dargestellt. Als Eingabe dienen Latitude und Longitude."
   ]
  },
  {
   "cell_type": "code",
   "execution_count": null,
   "metadata": {},
   "outputs": [],
   "source": [
    "import os\n",
    "import folium\n",
    "import pandas as pd\n",
    "import openrouteservice\n",
    "from openrouteservice import convert\n",
    "\n",
    "# Eingabe der Koordinaten\n",
    "lat1, lon1 = 52.521918, 13.413215\n",
    "lat2, lon2 = 52.516275, 13.377704\n",
    "\n",
    "df = pd.DataFrame([{'lat1': lat1, 'lon1': lon1, 'lat2': lat2, 'lon2': lon2}])\n",
    "\n",
    "ORS_API_KEY = os.environ.get('ORS_API_KEY')\n",
    "if not ORS_API_KEY:\n",
    "    raise ValueError('Bitte ORS_API_KEY als Umgebungsvariable setzen')\n",
    "client = openrouteservice.Client(key=ORS_API_KEY)\n",
    "coords = ((lon1, lat1), (lon2, lat2))\n",
    "df\n"
   ]
  },
  {
   "cell_type": "code",
   "execution_count": null,
   "metadata": {},
   "outputs": [],
   "source": [
    "# Fu\u00dfweg berechnen\n",
    "foot = client.directions(coords, profile='foot-walking', format='geojson')\n",
    "foot_distance = foot['features'][0]['properties']['summary']['distance'] / 1000\n",
    "print(f'Fu\u00dfweg: {foot_distance:.2f} km')\n",
    "\n",
    "df['foot_distance_km'] = foot_distance\n",
    "\n",
    "m = folium.Map(location=[lat1, lon1], zoom_start=14)\n",
    "folium.GeoJson(foot, name='foot-route').add_to(m)\n",
    "folium.Marker([lat1, lon1], tooltip='Start').add_to(m)\n",
    "folium.Marker([lat2, lon2], tooltip='Ziel').add_to(m)\n",
    "m\n"
   ]
  },
  {
   "cell_type": "code",
   "execution_count": null,
   "metadata": {},
   "outputs": [],
   "source": [
    "# Fahrradweg berechnen\n",
    "bike = client.directions(coords, profile='cycling-regular', format='geojson')\n",
    "bike_distance = bike['features'][0]['properties']['summary']['distance'] / 1000\n",
    "print(f'Fahrrad: {bike_distance:.2f} km')\n",
    "\n",
    "df['bike_distance_km'] = bike_distance\n",
    "\n",
    "m = folium.Map(location=[lat1, lon1], zoom_start=14)\n",
    "folium.GeoJson(bike, name='bike-route', style_function=lambda x: {'color': 'blue'}).add_to(m)\n",
    "folium.Marker([lat1, lon1], tooltip='Start').add_to(m)\n",
    "folium.Marker([lat2, lon2], tooltip='Ziel').add_to(m)\n",
    "m\n"
   ]
  },
  {
   "cell_type": "code",
   "execution_count": null,
   "metadata": {},
   "outputs": [],
   "source": [
    "df\n"
   ]
  }
 ],
 "metadata": {
  "kernelspec": {
   "display_name": "Python 3",
   "language": "python",
   "name": "python3"
  },
  "language_info": {
   "name": "python",
   "pygments_lexer": "ipython3"
  }
 },
 "nbformat": 4,
 "nbformat_minor": 5
}
