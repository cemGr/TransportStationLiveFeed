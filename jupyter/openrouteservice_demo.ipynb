{
 "cells": [
  {
   "cell_type": "markdown",
   "metadata": {},
   "source": [
    "# OpenRouteService Demo with Folium\n",
    "\n",
    "Dieses Notebook demonstriert, wie man mit der \"openrouteservice\"-API und Folium Entfernungen und Routen zwischen zwei Punkten berechnet. Es werden die Profile *fußläufig* und *Fahrrad* verwendet und die Route jeweils auf einer Karte dargestellt. Als Eingabe dienen Latitude und Longitude."
   ]
  },
  {
   "cell_type": "code",
   "execution_count": null,
   "metadata": {},
   "outputs": [],
   "source": [
    "import os\n",
    "import folium\n",
    "import openrouteservice\n",
    "import ipywidgets as widgets\n",
    "from openrouteservice import convert\n",
    "\n",
    "# Eingabe der Koordinaten\n",
    "lat1_widget = widgets.FloatText(value=52.521918, description='Lat1:')\n",
    "lon1_widget = widgets.FloatText(value=13.413215, description='Lon1:')\n",
    "lat2_widget = widgets.FloatText(value=52.516275, description='Lat2:')\n",
    "lon2_widget = widgets.FloatText(value=13.377704, description='Lon2:')\n",
    "display(lat1_widget, lon1_widget, lat2_widget, lon2_widget)\n",
    "\n",
    "lat1, lon1 = lat1_widget.value, lon1_widget.value\n",
    "lat2, lon2 = lat2_widget.value, lon2_widget.value\n",
    "\n",
    "ORS_API_KEY = os.environ.get('ORS_API_KEY')\n",
    "if not ORS_API_KEY:\n",
    "    raise ValueError('Bitte ORS_API_KEY als Umgebungsvariable setzen')\n",
    "client = openrouteservice.Client(key=ORS_API_KEY)\n",
    "coords = ((lon1, lat1), (lon2, lat2))\n"
   ]
  },
  {
   "cell_type": "code",
   "execution_count": null,
   "metadata": {},
   "outputs": [],
   "source": [
    "# Fußweg berechnen\n",
    "foot = client.directions(coords, profile='foot-walking', format='geojson')\n",
    "foot_distance = foot['features'][0]['properties']['summary']['distance'] / 1000\n",
    "print(f'Fußweg: {foot_distance:.2f} km')\n",
    "\n",
    "m = folium.Map(location=[lat1, lon1], zoom_start=14)\n",
    "folium.GeoJson(foot, name='foot-route').add_to(m)\n",
    "folium.Marker([lat1, lon1], tooltip='Start').add_to(m)\n",
    "folium.Marker([lat2, lon2], tooltip='Ziel').add_to(m)\n",
    "m"
   ]
  },
  {
   "cell_type": "code",
   "execution_count": null,
   "metadata": {},
   "outputs": [],
   "source": [
    "# Fahrradweg berechnen\n",
    "bike = client.directions(coords, profile='cycling-regular', format='geojson')\n",
    "bike_distance = bike['features'][0]['properties']['summary']['distance'] / 1000\n",
    "print(f'Fahrrad: {bike_distance:.2f} km')\n",
    "\n",
    "m = folium.Map(location=[lat1, lon1], zoom_start=14)\n",
    "folium.GeoJson(bike, name='bike-route', style_function=lambda x: {'color': 'blue'}).add_to(m)\n",
    "folium.Marker([lat1, lon1], tooltip='Start').add_to(m)\n",
    "folium.Marker([lat2, lon2], tooltip='Ziel').add_to(m)\n",
    "m"
   ]
  }
 ],
 "metadata": {
  "kernelspec": {
   "display_name": "Python 3",
   "language": "python",
   "name": "python3"
  },
  "language_info": {
   "name": "python",
   "pygments_lexer": "ipython3"
  }
 },
 "nbformat": 4,
 "nbformat_minor": 5
}
