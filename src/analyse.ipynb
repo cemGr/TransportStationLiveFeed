{
 "cells": [
  {
   "cell_type": "markdown",
   "id": "5208a40f",
   "metadata": {},
   "source": [
    "Analyse of bikeshare.metro.net"
   ]
  }
 ],
 "metadata": {
  "kernelspec": {
   "display_name": ".venv",
   "language": "python",
   "name": "python3"
  },
  "language_info": {
   "name": "python",
   "version": "3.12.1"
  }
 },
 "nbformat": 4,
 "nbformat_minor": 5
}
