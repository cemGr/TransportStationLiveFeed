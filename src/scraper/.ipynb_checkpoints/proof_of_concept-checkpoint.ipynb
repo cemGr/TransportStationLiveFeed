{
 "cells": [
  {
   "cell_type": "code",
   "execution_count": null,
   "id": "initial_id",
   "metadata": {
    "collapsed": true
   },
   "outputs": [],
   "source": [
    "# %% [markdown]\n",
    "# # Metro Bike Trip-Data Downloader\n",
    "# Downloads every quarterly ZIP from\n",
    "# https://bikeshare.metro.net/about/data/  ➜  ./trip_data"
   ]
  },
  {
   "metadata": {
    "ExecuteTime": {
     "end_time": "2025-05-27T06:54:01.485220Z",
     "start_time": "2025-05-27T06:54:00.779417Z"
    }
   },
   "cell_type": "code",
   "source": [
    "### Install / import packages  (run once)\n",
    "!pip install -r requirements.txt\n",
    "\n",
    "import os, re, time, requests, zipfile\n",
    "from bs4 import BeautifulSoup\n",
    "from urllib.parse import urljoin\n",
    "from tqdm import tqdm\n"
   ],
   "id": "996327e5063e87c1",
   "outputs": [
    {
     "name": "stderr",
     "output_type": "stream",
     "text": [
      "Could not find platform independent libraries <prefix>\n",
      "ERROR: Could not open requirements file: [Errno 2] No such file or directory: 'requirements.txt'\n"
     ]
    }
   ],
   "execution_count": 2
  }
 ],
 "metadata": {
  "kernelspec": {
   "display_name": "Python 3",
   "language": "python",
   "name": "python3"
  },
  "language_info": {
   "codemirror_mode": {
    "name": "ipython",
    "version": 2
   },
   "file_extension": ".py",
   "mimetype": "text/x-python",
   "name": "python",
   "nbconvert_exporter": "python",
   "pygments_lexer": "ipython2",
   "version": "2.7.6"
  }
 },
 "nbformat": 4,
 "nbformat_minor": 5
}
